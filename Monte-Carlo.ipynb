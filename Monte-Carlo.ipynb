{
 "cells": [
  {
   "cell_type": "code",
   "execution_count": null,
   "id": "97b8855f",
   "metadata": {},
   "outputs": [
    {
     "name": "stdout",
     "output_type": "stream",
     "text": [
      "Monte Carlo Call Price: ₹ 29.53\n",
      "Standard Error: ± ₹ 0.07\n"
     ]
    }
   ],
   "source": [
    "import numpy as np\n",
    "\n",
    "# Parameters for Infosys (INFY)\n",
    "S0 = 1333.30   # Spot price (₹)\n",
    "K = 1340.0     # Strike price (₹)\n",
    "T = 0.03836    # Time to expiry (in years)\n",
    "r = 0.06       # Risk-free interest rate\n",
    "sigma = 0.3    # Volatility\n",
    "n_sims = 400_000  # Number of Monte Carlo simulations(Change depending on Confindence Required)\n",
    "\n",
    "# Set random seed for reproducibility\n",
    "rng = np.random.default_rng(seed=42)\n",
    "\n",
    "# Generate random standard normal values\n",
    "Z = rng.standard_normal(n_sims)\n",
    "\n",
    "# Simulate terminal stock prices using Geometric Brownian Motion\n",
    "ST = S0 * np.exp((r - 0.5 * sigma**2) * T + sigma * np.sqrt(T) * Z)\n",
    "\n",
    "# Calculate the payoff for a European Call option\n",
    "payoffs = np.maximum(ST - K, 0)\n",
    "\n",
    "# Discount payoffs to present value\n",
    "discounted_payoffs = np.exp(-r * T) * payoffs\n",
    "\n",
    "# Monte Carlo price and standard error\n",
    "mc_price = discounted_payoffs.mean()\n",
    "mc_stderr = discounted_payoffs.std(ddof=1) / np.sqrt(n_sims)\n",
    "\n",
    "# Output the results\n",
    "print(f\"Monte Carlo Call Price: ₹ {mc_price:.2f}\")\n",
    "print(f\"Standard Error: ± ₹ {mc_stderr:.2f}\")\n"
   ]
  },
  {
   "cell_type": "code",
   "execution_count": null,
   "id": "f21935d7",
   "metadata": {},
   "outputs": [],
   "source": []
  }
 ],
 "metadata": {
  "kernelspec": {
   "display_name": "base",
   "language": "python",
   "name": "python3"
  },
  "language_info": {
   "codemirror_mode": {
    "name": "ipython",
    "version": 3
   },
   "file_extension": ".py",
   "mimetype": "text/x-python",
   "name": "python",
   "nbconvert_exporter": "python",
   "pygments_lexer": "ipython3",
   "version": "3.12.7"
  }
 },
 "nbformat": 4,
 "nbformat_minor": 5
}
